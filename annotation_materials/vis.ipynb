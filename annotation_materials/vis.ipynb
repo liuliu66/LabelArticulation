{
 "cells": [
  {
   "cell_type": "code",
   "execution_count": 6,
   "metadata": {},
   "outputs": [],
   "source": [
    "import open3d as o3d\n",
    "import numpy as np\n",
    "\n",
    "model_mesh = o3d.io.read_triangle_mesh('model_materials/circle.obj')\n",
    "pts_num = np.asarray(model_mesh.vertices).shape[0]\n",
    "model_mesh.vertex_colors = o3d.utility.Vector3dVector(np.array([[1, 0.706, 0]]).repeat(pts_num, axis=0))\n",
    "\n",
    "axis_pcd = o3d.geometry.TriangleMesh.create_coordinate_frame(size=0.002, origin=[0, 0, 0])\n",
    "\n",
    "def save_view_point(pcd, filename):\n",
    "    vis = o3d.visualization.Visualizer()\n",
    "    vis.create_window()\n",
    "    vis.add_geometry(pcd)\n",
    "    vis.run()  # user changes the view and press \"q\" to terminate\n",
    "    param = vis.get_view_control().convert_to_pinhole_camera_parameters()\n",
    "    o3d.io.write_pinhole_camera_parameters(filename, param)\n",
    "    vis.destroy_window()\n",
    "\n",
    "# o3d.visualization.draw_geometries([model_mesh, axis_pcd])\n",
    "save_view_point(model_mesh, 'viewpoint_for_figure.json')"
   ]
  },
  {
   "cell_type": "code",
   "execution_count": null,
   "metadata": {},
   "outputs": [],
   "source": []
  }
 ],
 "metadata": {
  "kernelspec": {
   "display_name": "Python 3",
   "language": "python",
   "name": "python3"
  },
  "language_info": {
   "codemirror_mode": {
    "name": "ipython",
    "version": 3
   },
   "file_extension": ".py",
   "mimetype": "text/x-python",
   "name": "python",
   "nbconvert_exporter": "python",
   "pygments_lexer": "ipython3",
   "version": "3.6.5"
  }
 },
 "nbformat": 4,
 "nbformat_minor": 2
}
